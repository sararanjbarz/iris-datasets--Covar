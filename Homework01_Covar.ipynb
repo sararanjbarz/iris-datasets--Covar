{
  "nbformat": 4,
  "nbformat_minor": 0,
  "metadata": {
    "colab": {
      "name": "Homework01_Covar.ipynb",
      "provenance": [],
      "include_colab_link": true
    },
    "kernelspec": {
      "name": "python3",
      "display_name": "Python 3"
    },
    "language_info": {
      "name": "python"
    }
  },
  "cells": [
    {
      "cell_type": "markdown",
      "metadata": {
        "id": "view-in-github",
        "colab_type": "text"
      },
      "source": [
        "<a href=\"https://colab.research.google.com/github/sararanjbarz/iris-datasets--Covar/blob/main/Homework01_Covar.ipynb\" target=\"_parent\"><img src=\"https://colab.research.google.com/assets/colab-badge.svg\" alt=\"Open In Colab\"/></a>"
      ]
    },
    {
      "cell_type": "code",
      "metadata": {
        "id": "6lmai-h2WtGW"
      },
      "source": [
        "from sklearn import datasets\n",
        "import numpy as np\n",
        "import pandas as pd\n",
        "import matplotlib.pyplot as plt"
      ],
      "execution_count": 45,
      "outputs": []
    },
    {
      "cell_type": "code",
      "metadata": {
        "colab": {
          "base_uri": "https://localhost:8080/",
          "height": 206
        },
        "id": "07Yd76pGAA_e",
        "outputId": "c29678ec-4615-4ee1-f701-00c2f354cb60"
      },
      "source": [
        "data= datasets.load_iris()\n",
        "\n",
        "df = pd.DataFrame(data.data,columns=data.feature_names)\n",
        "df.head()"
      ],
      "execution_count": 46,
      "outputs": [
        {
          "output_type": "execute_result",
          "data": {
            "text/html": [
              "<div>\n",
              "<style scoped>\n",
              "    .dataframe tbody tr th:only-of-type {\n",
              "        vertical-align: middle;\n",
              "    }\n",
              "\n",
              "    .dataframe tbody tr th {\n",
              "        vertical-align: top;\n",
              "    }\n",
              "\n",
              "    .dataframe thead th {\n",
              "        text-align: right;\n",
              "    }\n",
              "</style>\n",
              "<table border=\"1\" class=\"dataframe\">\n",
              "  <thead>\n",
              "    <tr style=\"text-align: right;\">\n",
              "      <th></th>\n",
              "      <th>sepal length (cm)</th>\n",
              "      <th>sepal width (cm)</th>\n",
              "      <th>petal length (cm)</th>\n",
              "      <th>petal width (cm)</th>\n",
              "    </tr>\n",
              "  </thead>\n",
              "  <tbody>\n",
              "    <tr>\n",
              "      <th>0</th>\n",
              "      <td>5.1</td>\n",
              "      <td>3.5</td>\n",
              "      <td>1.4</td>\n",
              "      <td>0.2</td>\n",
              "    </tr>\n",
              "    <tr>\n",
              "      <th>1</th>\n",
              "      <td>4.9</td>\n",
              "      <td>3.0</td>\n",
              "      <td>1.4</td>\n",
              "      <td>0.2</td>\n",
              "    </tr>\n",
              "    <tr>\n",
              "      <th>2</th>\n",
              "      <td>4.7</td>\n",
              "      <td>3.2</td>\n",
              "      <td>1.3</td>\n",
              "      <td>0.2</td>\n",
              "    </tr>\n",
              "    <tr>\n",
              "      <th>3</th>\n",
              "      <td>4.6</td>\n",
              "      <td>3.1</td>\n",
              "      <td>1.5</td>\n",
              "      <td>0.2</td>\n",
              "    </tr>\n",
              "    <tr>\n",
              "      <th>4</th>\n",
              "      <td>5.0</td>\n",
              "      <td>3.6</td>\n",
              "      <td>1.4</td>\n",
              "      <td>0.2</td>\n",
              "    </tr>\n",
              "  </tbody>\n",
              "</table>\n",
              "</div>"
            ],
            "text/plain": [
              "   sepal length (cm)  sepal width (cm)  petal length (cm)  petal width (cm)\n",
              "0                5.1               3.5                1.4               0.2\n",
              "1                4.9               3.0                1.4               0.2\n",
              "2                4.7               3.2                1.3               0.2\n",
              "3                4.6               3.1                1.5               0.2\n",
              "4                5.0               3.6                1.4               0.2"
            ]
          },
          "metadata": {},
          "execution_count": 46
        }
      ]
    },
    {
      "cell_type": "code",
      "metadata": {
        "colab": {
          "base_uri": "https://localhost:8080/",
          "height": 206
        },
        "id": "hit5ifCuAcZW",
        "outputId": "3f896afe-9c41-4520-ab9f-db9b5e3890e6"
      },
      "source": [
        "\n",
        "df['target']= data.target\n",
        "df.head()"
      ],
      "execution_count": 47,
      "outputs": [
        {
          "output_type": "execute_result",
          "data": {
            "text/html": [
              "<div>\n",
              "<style scoped>\n",
              "    .dataframe tbody tr th:only-of-type {\n",
              "        vertical-align: middle;\n",
              "    }\n",
              "\n",
              "    .dataframe tbody tr th {\n",
              "        vertical-align: top;\n",
              "    }\n",
              "\n",
              "    .dataframe thead th {\n",
              "        text-align: right;\n",
              "    }\n",
              "</style>\n",
              "<table border=\"1\" class=\"dataframe\">\n",
              "  <thead>\n",
              "    <tr style=\"text-align: right;\">\n",
              "      <th></th>\n",
              "      <th>sepal length (cm)</th>\n",
              "      <th>sepal width (cm)</th>\n",
              "      <th>petal length (cm)</th>\n",
              "      <th>petal width (cm)</th>\n",
              "      <th>target</th>\n",
              "    </tr>\n",
              "  </thead>\n",
              "  <tbody>\n",
              "    <tr>\n",
              "      <th>0</th>\n",
              "      <td>5.1</td>\n",
              "      <td>3.5</td>\n",
              "      <td>1.4</td>\n",
              "      <td>0.2</td>\n",
              "      <td>0</td>\n",
              "    </tr>\n",
              "    <tr>\n",
              "      <th>1</th>\n",
              "      <td>4.9</td>\n",
              "      <td>3.0</td>\n",
              "      <td>1.4</td>\n",
              "      <td>0.2</td>\n",
              "      <td>0</td>\n",
              "    </tr>\n",
              "    <tr>\n",
              "      <th>2</th>\n",
              "      <td>4.7</td>\n",
              "      <td>3.2</td>\n",
              "      <td>1.3</td>\n",
              "      <td>0.2</td>\n",
              "      <td>0</td>\n",
              "    </tr>\n",
              "    <tr>\n",
              "      <th>3</th>\n",
              "      <td>4.6</td>\n",
              "      <td>3.1</td>\n",
              "      <td>1.5</td>\n",
              "      <td>0.2</td>\n",
              "      <td>0</td>\n",
              "    </tr>\n",
              "    <tr>\n",
              "      <th>4</th>\n",
              "      <td>5.0</td>\n",
              "      <td>3.6</td>\n",
              "      <td>1.4</td>\n",
              "      <td>0.2</td>\n",
              "      <td>0</td>\n",
              "    </tr>\n",
              "  </tbody>\n",
              "</table>\n",
              "</div>"
            ],
            "text/plain": [
              "   sepal length (cm)  sepal width (cm)  ...  petal width (cm)  target\n",
              "0                5.1               3.5  ...               0.2       0\n",
              "1                4.9               3.0  ...               0.2       0\n",
              "2                4.7               3.2  ...               0.2       0\n",
              "3                4.6               3.1  ...               0.2       0\n",
              "4                5.0               3.6  ...               0.2       0\n",
              "\n",
              "[5 rows x 5 columns]"
            ]
          },
          "metadata": {},
          "execution_count": 47
        }
      ]
    },
    {
      "cell_type": "code",
      "metadata": {
        "colab": {
          "base_uri": "https://localhost:8080/"
        },
        "id": "PAi0ztCFJsyf",
        "outputId": "d762ae52-4dee-4a83-ec75-e2b76a053e40"
      },
      "source": [
        "data= df.to_numpy()[:,:2]\n",
        "\n",
        "data.shape"
      ],
      "execution_count": 48,
      "outputs": [
        {
          "output_type": "execute_result",
          "data": {
            "text/plain": [
              "(150, 2)"
            ]
          },
          "metadata": {},
          "execution_count": 48
        }
      ]
    },
    {
      "cell_type": "code",
      "metadata": {
        "id": "S_zmGZHk_7hE"
      },
      "source": [
        "def descritisize(x1,x2):\n",
        "  x=7*[0]\n",
        "  if  4.3<= x1 <=5.2: x[0]=1\n",
        "  if  5.2< x1 <=6.1: x[1] =1\n",
        "  if  6.1< x1 <=7.0: x[2] =1\n",
        "  if  7.0< x1 <=7.9: x[3] =1\n",
        "  if  2.0<= x2 <=2.8: x[4] =1\n",
        "  if  2.8< x2 <=3.6: x[5] =1\n",
        "  if  3.6< x2 <=4.4: x[6] =1\n",
        "\n",
        "  return np.array(x)"
      ],
      "execution_count": 49,
      "outputs": []
    },
    {
      "cell_type": "code",
      "metadata": {
        "colab": {
          "base_uri": "https://localhost:8080/"
        },
        "id": "trcG60F1_1IS",
        "outputId": "7ab3fda3-4099-40e9-8e8f-0826d26ce3bc"
      },
      "source": [
        "descritisize(data[0,0],data[0,1])"
      ],
      "execution_count": 50,
      "outputs": [
        {
          "output_type": "execute_result",
          "data": {
            "text/plain": [
              "array([1, 0, 0, 0, 0, 1, 0])"
            ]
          },
          "metadata": {},
          "execution_count": 50
        }
      ]
    },
    {
      "cell_type": "code",
      "metadata": {
        "colab": {
          "base_uri": "https://localhost:8080/"
        },
        "id": "tkG36Lsn_w7B",
        "outputId": "68b5f6f3-a526-4344-ce8c-709b4a7c8dbc"
      },
      "source": [
        "mu = np.array(7*[0])\n",
        "for x in data:\n",
        "  mu= mu + descritisize(x[0],x[1])\n",
        "\n",
        "mu"
      ],
      "execution_count": 51,
      "outputs": [
        {
          "output_type": "execute_result",
          "data": {
            "text/plain": [
              "array([45, 50, 43, 12, 47, 88, 15])"
            ]
          },
          "metadata": {},
          "execution_count": 51
        }
      ]
    },
    {
      "cell_type": "code",
      "metadata": {
        "colab": {
          "base_uri": "https://localhost:8080/"
        },
        "id": "WwhD-T19_tkf",
        "outputId": "b83317a9-2b91-42c9-a163-db51e66ae210"
      },
      "source": [
        "mu= mu/150\n",
        "print(mu.round(2))"
      ],
      "execution_count": 52,
      "outputs": [
        {
          "output_type": "stream",
          "name": "stdout",
          "text": [
            "[0.3  0.33 0.29 0.08 0.31 0.59 0.1 ]\n"
          ]
        }
      ]
    },
    {
      "cell_type": "code",
      "metadata": {
        "id": "NzdTsmrYUGRF"
      },
      "source": [
        ""
      ],
      "execution_count": 52,
      "outputs": []
    },
    {
      "cell_type": "markdown",
      "metadata": {
        "id": "RhC-ARI4UIFB"
      },
      "source": [
        "Covariance Matrix\n",
        "\n"
      ]
    },
    {
      "cell_type": "code",
      "metadata": {
        "id": "OQ3HLnhAU1lO",
        "colab": {
          "base_uri": "https://localhost:8080/"
        },
        "outputId": "1204ce06-8e1b-4efe-c5b7-c005bc839419"
      },
      "source": [
        "N12 = np.full((4,3),0)\n",
        "N1 = np.full((4,1),0)\n",
        "N2 = np.full((3,1),0)\n",
        "\n",
        "for x in data:\n",
        "    x = descritisize(x[0],x[1])\n",
        "    x1 = x[:4].reshape((4,1))\n",
        "    x2 = x[-3:].reshape((3,1))\n",
        "    N12 = N12 + x1 @ x2.T\n",
        "    N1 = N1 + x1\n",
        "    N2 = N2 + x2\n",
        "\n",
        "p1 = N1/150\n",
        "p2 = N2/150\n",
        "P12 = N12/150\n",
        "\n",
        "mu = np.vstack((p1,p2))\n",
        "\n",
        "P1 = np.diagflat(p1)\n",
        "P2 = np.diagflat(p2)\n",
        "\n",
        "S11 = P1-p1@p1.T\n",
        "S22 = P2-p2@p2.T\n",
        "S12 = P12 - p1@p2.T\n",
        "S21 = S12.T\n",
        "\n",
        "S1 = np.hstack((S11,S12))\n",
        "S2 = np.hstack((S21,S22))\n",
        "S = np.vstack((S1,S2))\n",
        "\n",
        "print(mu.round(3))\n",
        "print(S.round(3))"
      ],
      "execution_count": 54,
      "outputs": [
        {
          "output_type": "stream",
          "name": "stdout",
          "text": [
            "[[0.3  ]\n",
            " [0.333]\n",
            " [0.287]\n",
            " [0.08 ]\n",
            " [0.313]\n",
            " [0.587]\n",
            " [0.1  ]]\n",
            "[[ 0.21  -0.1   -0.086 -0.024 -0.047  0.044  0.003]\n",
            " [-0.1    0.222 -0.096 -0.027  0.056 -0.076  0.02 ]\n",
            " [-0.086 -0.096  0.204 -0.023 -0.003  0.032 -0.029]\n",
            " [-0.024 -0.027 -0.023  0.074 -0.005 -0.     0.005]\n",
            " [-0.047  0.056 -0.003 -0.005  0.215 -0.184 -0.031]\n",
            " [ 0.044 -0.076  0.032 -0.    -0.184  0.242 -0.059]\n",
            " [ 0.003  0.02  -0.029  0.005 -0.031 -0.059  0.09 ]]\n"
          ]
        }
      ]
    }
  ]
}